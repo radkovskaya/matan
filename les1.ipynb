{
 "cells": [
  {
   "cell_type": "markdown",
   "metadata": {},
   "source": [
    "**Тема 1.\n",
    "Знакомство с математическим анализом**"
   ]
  },
  {
   "cell_type": "markdown",
   "metadata": {},
   "source": [
    "1.Как относятся друг к другу множество и последовательность? (в ответе использовать слова типа: часть, целое, общее, частное, родитель, дочерний субъект и т.д.)"
   ]
  },
  {
   "cell_type": "markdown",
   "metadata": {},
   "source": [
    "Последовательность является частным случаем множества. Любая последовательность является множеством, но не любое множество является последовательностью."
   ]
  },
  {
   "cell_type": "markdown",
   "metadata": {},
   "source": [
    "2.Прочитать высказывания математической логики, построить их отрицания и *установить истинность."
   ]
  },
  {
   "cell_type": "markdown",
   "metadata": {},
   "source": [
    "Высказывание: $\\forall y \\in [0,1] : sgn(y) = 1 $ **Истино**"
   ]
  },
  {
   "cell_type": "markdown",
   "metadata": {},
   "source": [
    "Отрицание: $\\exists y \\in [0,1] : sgn(y) > 1 || sgn(y) < 1$"
   ]
  },
  {
   "cell_type": "markdown",
   "metadata": {},
   "source": [
    "Высказывание: $\\forall n \\in N > 2: \\exists x,y,z \\in N: x^n = y^n + z^n $ "
   ]
  },
  {
   "cell_type": "markdown",
   "metadata": {},
   "source": [
    "Отрицание: $\\exists n \\in N > 2: \\forall x,y,z \\in N: x^n > y^n + z^n ||x^n < y^n + z^n   $ "
   ]
  },
  {
   "cell_type": "markdown",
   "metadata": {},
   "source": [
    "Высказывание: $\\forall x  \\in  R \\exists X \\in R : X >x $ "
   ]
  },
  {
   "cell_type": "markdown",
   "metadata": {},
   "source": [
    "Отрицание: $\\exists x \\in R \\forall X \\in R : X <x $ "
   ]
  },
  {
   "cell_type": "markdown",
   "metadata": {},
   "source": [
    "Высказывание: $\\forall x \\in C \\nexists y \\in C: x > y|| x < y$"
   ]
  },
  {
   "cell_type": "markdown",
   "metadata": {},
   "source": [
    "Отрицание: $\\exists x \\in C \\forall y \\in C: x = y$"
   ]
  },
  {
   "cell_type": "markdown",
   "metadata": {},
   "source": [
    "Высказывание: $\\forall y \\in [0; \\frac{\\pi}{2}] \\exists \\epsilon > 0: sin y < sin(y+\\epsilon)$"
   ]
  },
  {
   "cell_type": "markdown",
   "metadata": {},
   "source": [
    "Отрицание: $\\exists y \\in [0; \\frac{\\pi}{2}] \\forall \\epsilon > 0: sin y > sin(y+\\epsilon)$"
   ]
  },
  {
   "cell_type": "markdown",
   "metadata": {},
   "source": [
    "Высказывание: $\\forall y \\in [0; \\pi)\\exists \\epsilon > 0: cosy > cos(y+\\epsilon)$"
   ]
  },
  {
   "cell_type": "markdown",
   "metadata": {},
   "source": [
    "Отрицание: $\\exists y \\in [0; \\pi)\\forall \\epsilon > 0: cosy < cos(y+\\epsilon)$"
   ]
  },
  {
   "cell_type": "markdown",
   "metadata": {},
   "source": [
    "Высказывание: $\\exists x: x \\notin \\{N, Z, Q, R, C\\}$"
   ]
  },
  {
   "cell_type": "markdown",
   "metadata": {},
   "source": [
    "Отрицание: $\\forall x: x \\in \\{N, Z, Q, R, C\\}$"
   ]
  },
  {
   "cell_type": "markdown",
   "metadata": {},
   "source": [
    "**Тема 2 Множество**"
   ]
  },
  {
   "cell_type": "markdown",
   "metadata": {},
   "source": [
    "1. Даны три множества a,b и с. Необходимо выполнить все изученные виды бинарных операций над всеми комбинациями множеств."
   ]
  },
  {
   "cell_type": "code",
   "execution_count": 69,
   "metadata": {},
   "outputs": [],
   "source": [
    "a ={1, 2, 3, 4, 5}"
   ]
  },
  {
   "cell_type": "code",
   "execution_count": 71,
   "metadata": {},
   "outputs": [],
   "source": [
    "b = {4,5,7, 10}"
   ]
  },
  {
   "cell_type": "code",
   "execution_count": 70,
   "metadata": {},
   "outputs": [],
   "source": [
    "c = {1,3, 4, 7}"
   ]
  },
  {
   "cell_type": "markdown",
   "metadata": {},
   "source": [
    "Пересечение"
   ]
  },
  {
   "cell_type": "code",
   "execution_count": 75,
   "metadata": {},
   "outputs": [
    {
     "data": {
      "text/plain": [
       "{4, 5}"
      ]
     },
     "execution_count": 75,
     "metadata": {},
     "output_type": "execute_result"
    }
   ],
   "source": [
    "a & b"
   ]
  },
  {
   "cell_type": "markdown",
   "metadata": {},
   "source": [
    "Объединение"
   ]
  },
  {
   "cell_type": "code",
   "execution_count": 76,
   "metadata": {},
   "outputs": [
    {
     "data": {
      "text/plain": [
       "{1, 2, 3, 4, 5, 7, 10}"
      ]
     },
     "execution_count": 76,
     "metadata": {},
     "output_type": "execute_result"
    }
   ],
   "source": [
    "a | b"
   ]
  },
  {
   "cell_type": "markdown",
   "metadata": {},
   "source": [
    "Разность"
   ]
  },
  {
   "cell_type": "code",
   "execution_count": 77,
   "metadata": {},
   "outputs": [
    {
     "data": {
      "text/plain": [
       "{1, 2, 3}"
      ]
     },
     "execution_count": 77,
     "metadata": {},
     "output_type": "execute_result"
    }
   ],
   "source": [
    "a - b"
   ]
  },
  {
   "cell_type": "markdown",
   "metadata": {},
   "source": [
    "Симметрическая разность"
   ]
  },
  {
   "cell_type": "code",
   "execution_count": 78,
   "metadata": {},
   "outputs": [
    {
     "data": {
      "text/plain": [
       "{1, 2, 3, 7, 10}"
      ]
     },
     "execution_count": 78,
     "metadata": {},
     "output_type": "execute_result"
    }
   ],
   "source": [
    "a ^ b"
   ]
  },
  {
   "cell_type": "markdown",
   "metadata": {},
   "source": [
    "Декартово произведение"
   ]
  },
  {
   "cell_type": "code",
   "execution_count": 90,
   "metadata": {},
   "outputs": [
    {
     "data": {
      "text/plain": [
       "{(1, 4),\n",
       " (1, 5),\n",
       " (1, 7),\n",
       " (1, 10),\n",
       " (2, 4),\n",
       " (2, 5),\n",
       " (2, 7),\n",
       " (2, 10),\n",
       " (3, 4),\n",
       " (3, 5),\n",
       " (3, 7),\n",
       " (3, 10),\n",
       " (4, 4),\n",
       " (4, 5),\n",
       " (4, 7),\n",
       " (4, 10),\n",
       " (5, 4),\n",
       " (5, 5),\n",
       " (5, 7),\n",
       " (5, 10)}"
      ]
     },
     "execution_count": 90,
     "metadata": {},
     "output_type": "execute_result"
    }
   ],
   "source": [
    "def dec_mult(a,b):\n",
    "    return({(x,y) for x in a for y in b})\n",
    "dec_mult(a,b)"
   ]
  },
  {
   "cell_type": "markdown",
   "metadata": {},
   "source": [
    "$a \\cap b \\cap c$"
   ]
  },
  {
   "cell_type": "code",
   "execution_count": 98,
   "metadata": {},
   "outputs": [
    {
     "data": {
      "text/plain": [
       "{4}"
      ]
     },
     "execution_count": 98,
     "metadata": {},
     "output_type": "execute_result"
    }
   ],
   "source": [
    "a & b & c"
   ]
  },
  {
   "cell_type": "markdown",
   "metadata": {},
   "source": [
    "$a \\cap b \\cup c$"
   ]
  },
  {
   "cell_type": "code",
   "execution_count": 99,
   "metadata": {},
   "outputs": [
    {
     "data": {
      "text/plain": [
       "{1, 3, 4, 5, 7}"
      ]
     },
     "execution_count": 99,
     "metadata": {},
     "output_type": "execute_result"
    }
   ],
   "source": [
    "a & b | c"
   ]
  },
  {
   "cell_type": "markdown",
   "metadata": {},
   "source": [
    "$a \\cap b \\setminus c$"
   ]
  },
  {
   "cell_type": "code",
   "execution_count": 100,
   "metadata": {},
   "outputs": [
    {
     "data": {
      "text/plain": [
       "{5}"
      ]
     },
     "execution_count": 100,
     "metadata": {},
     "output_type": "execute_result"
    }
   ],
   "source": [
    "a & b - c"
   ]
  },
  {
   "cell_type": "markdown",
   "metadata": {},
   "source": [
    "$a \\cap b \\bigtriangleup c$"
   ]
  },
  {
   "cell_type": "code",
   "execution_count": 101,
   "metadata": {},
   "outputs": [
    {
     "data": {
      "text/plain": [
       "{1, 3, 5, 7}"
      ]
     },
     "execution_count": 101,
     "metadata": {},
     "output_type": "execute_result"
    }
   ],
   "source": [
    "a & b ^ c"
   ]
  },
  {
   "cell_type": "markdown",
   "metadata": {},
   "source": [
    "$a \\cap b \\times c$"
   ]
  },
  {
   "cell_type": "code",
   "execution_count": 102,
   "metadata": {},
   "outputs": [
    {
     "data": {
      "text/plain": [
       "{(4, 1), (4, 3), (4, 4), (4, 7), (5, 1), (5, 3), (5, 4), (5, 7)}"
      ]
     },
     "execution_count": 102,
     "metadata": {},
     "output_type": "execute_result"
    }
   ],
   "source": [
    "dec_mult(a & b, c)"
   ]
  },
  {
   "cell_type": "markdown",
   "metadata": {},
   "source": [
    "$a \\cup b \\cup c$"
   ]
  },
  {
   "cell_type": "code",
   "execution_count": 108,
   "metadata": {},
   "outputs": [
    {
     "data": {
      "text/plain": [
       "{1, 2, 3, 4, 5, 7, 10}"
      ]
     },
     "execution_count": 108,
     "metadata": {},
     "output_type": "execute_result"
    }
   ],
   "source": [
    "a | b | c"
   ]
  },
  {
   "cell_type": "markdown",
   "metadata": {},
   "source": [
    "$a \\cup b \\setminus c$"
   ]
  },
  {
   "cell_type": "code",
   "execution_count": 109,
   "metadata": {},
   "outputs": [
    {
     "data": {
      "text/plain": [
       "{1, 2, 3, 4, 5, 10}"
      ]
     },
     "execution_count": 109,
     "metadata": {},
     "output_type": "execute_result"
    }
   ],
   "source": [
    "a |b - c"
   ]
  },
  {
   "cell_type": "markdown",
   "metadata": {},
   "source": [
    "$a \\cup b \\bigtriangleup c$"
   ]
  },
  {
   "cell_type": "code",
   "execution_count": 110,
   "metadata": {},
   "outputs": [
    {
     "data": {
      "text/plain": [
       "{1, 2, 3, 4, 5, 10}"
      ]
     },
     "execution_count": 110,
     "metadata": {},
     "output_type": "execute_result"
    }
   ],
   "source": [
    "a | b ^ c"
   ]
  },
  {
   "cell_type": "markdown",
   "metadata": {},
   "source": [
    "$a \\cup b \\times c$"
   ]
  },
  {
   "cell_type": "code",
   "execution_count": 111,
   "metadata": {},
   "outputs": [
    {
     "data": {
      "text/plain": [
       "{(1, 1),\n",
       " (1, 3),\n",
       " (1, 4),\n",
       " (1, 7),\n",
       " (2, 1),\n",
       " (2, 3),\n",
       " (2, 4),\n",
       " (2, 7),\n",
       " (3, 1),\n",
       " (3, 3),\n",
       " (3, 4),\n",
       " (3, 7),\n",
       " (4, 1),\n",
       " (4, 3),\n",
       " (4, 4),\n",
       " (4, 7),\n",
       " (5, 1),\n",
       " (5, 3),\n",
       " (5, 4),\n",
       " (5, 7),\n",
       " (7, 1),\n",
       " (7, 3),\n",
       " (7, 4),\n",
       " (7, 7),\n",
       " (10, 1),\n",
       " (10, 3),\n",
       " (10, 4),\n",
       " (10, 7)}"
      ]
     },
     "execution_count": 111,
     "metadata": {},
     "output_type": "execute_result"
    }
   ],
   "source": [
    "dec_mult(a|b,c)"
   ]
  },
  {
   "cell_type": "markdown",
   "metadata": {},
   "source": [
    "$a \\cup b \\cap c$"
   ]
  },
  {
   "cell_type": "code",
   "execution_count": 112,
   "metadata": {},
   "outputs": [
    {
     "data": {
      "text/plain": [
       "{1, 2, 3, 4, 5, 7}"
      ]
     },
     "execution_count": 112,
     "metadata": {},
     "output_type": "execute_result"
    }
   ],
   "source": [
    "a | (b & c)"
   ]
  },
  {
   "cell_type": "markdown",
   "metadata": {},
   "source": [
    "$a \\setminus b \\bigtriangleup c$"
   ]
  },
  {
   "cell_type": "code",
   "execution_count": 120,
   "metadata": {},
   "outputs": [
    {
     "data": {
      "text/plain": [
       "{2, 4, 7}"
      ]
     },
     "execution_count": 120,
     "metadata": {},
     "output_type": "execute_result"
    }
   ],
   "source": [
    "a - b ^ c"
   ]
  },
  {
   "cell_type": "markdown",
   "metadata": {},
   "source": [
    "$a \\setminus b \\times c$"
   ]
  },
  {
   "cell_type": "code",
   "execution_count": 121,
   "metadata": {},
   "outputs": [
    {
     "data": {
      "text/plain": [
       "{(1, 1),\n",
       " (1, 3),\n",
       " (1, 4),\n",
       " (1, 7),\n",
       " (2, 1),\n",
       " (2, 3),\n",
       " (2, 4),\n",
       " (2, 7),\n",
       " (3, 1),\n",
       " (3, 3),\n",
       " (3, 4),\n",
       " (3, 7)}"
      ]
     },
     "execution_count": 121,
     "metadata": {},
     "output_type": "execute_result"
    }
   ],
   "source": [
    "dec_mult(a - b,c)"
   ]
  },
  {
   "cell_type": "markdown",
   "metadata": {},
   "source": [
    "$a \\setminus b \\setminus c$"
   ]
  },
  {
   "cell_type": "markdown",
   "metadata": {},
   "source": [
    "a - b - c"
   ]
  },
  {
   "cell_type": "markdown",
   "metadata": {},
   "source": [
    "$a \\setminus b \\cap c$"
   ]
  },
  {
   "cell_type": "code",
   "execution_count": 122,
   "metadata": {},
   "outputs": [
    {
     "data": {
      "text/plain": [
       "{1, 2, 3, 5}"
      ]
     },
     "execution_count": 122,
     "metadata": {},
     "output_type": "execute_result"
    }
   ],
   "source": [
    "a - (b&c)"
   ]
  },
  {
   "cell_type": "markdown",
   "metadata": {},
   "source": [
    "$a \\setminus b \\cup c$"
   ]
  },
  {
   "cell_type": "code",
   "execution_count": 123,
   "metadata": {},
   "outputs": [
    {
     "data": {
      "text/plain": [
       "{1, 2, 3, 4, 7}"
      ]
     },
     "execution_count": 123,
     "metadata": {},
     "output_type": "execute_result"
    }
   ],
   "source": [
    "a - b | c"
   ]
  },
  {
   "cell_type": "markdown",
   "metadata": {},
   "source": [
    "$a \\times b \\times c$"
   ]
  },
  {
   "cell_type": "code",
   "execution_count": 129,
   "metadata": {},
   "outputs": [
    {
     "data": {
      "text/plain": [
       "{((1, 4), 1),\n",
       " ((1, 4), 3),\n",
       " ((1, 4), 4),\n",
       " ((1, 4), 7),\n",
       " ((1, 5), 1),\n",
       " ((1, 5), 3),\n",
       " ((1, 5), 4),\n",
       " ((1, 5), 7),\n",
       " ((1, 7), 1),\n",
       " ((1, 7), 3),\n",
       " ((1, 7), 4),\n",
       " ((1, 7), 7),\n",
       " ((1, 10), 1),\n",
       " ((1, 10), 3),\n",
       " ((1, 10), 4),\n",
       " ((1, 10), 7),\n",
       " ((2, 4), 1),\n",
       " ((2, 4), 3),\n",
       " ((2, 4), 4),\n",
       " ((2, 4), 7),\n",
       " ((2, 5), 1),\n",
       " ((2, 5), 3),\n",
       " ((2, 5), 4),\n",
       " ((2, 5), 7),\n",
       " ((2, 7), 1),\n",
       " ((2, 7), 3),\n",
       " ((2, 7), 4),\n",
       " ((2, 7), 7),\n",
       " ((2, 10), 1),\n",
       " ((2, 10), 3),\n",
       " ((2, 10), 4),\n",
       " ((2, 10), 7),\n",
       " ((3, 4), 1),\n",
       " ((3, 4), 3),\n",
       " ((3, 4), 4),\n",
       " ((3, 4), 7),\n",
       " ((3, 5), 1),\n",
       " ((3, 5), 3),\n",
       " ((3, 5), 4),\n",
       " ((3, 5), 7),\n",
       " ((3, 7), 1),\n",
       " ((3, 7), 3),\n",
       " ((3, 7), 4),\n",
       " ((3, 7), 7),\n",
       " ((3, 10), 1),\n",
       " ((3, 10), 3),\n",
       " ((3, 10), 4),\n",
       " ((3, 10), 7),\n",
       " ((4, 4), 1),\n",
       " ((4, 4), 3),\n",
       " ((4, 4), 4),\n",
       " ((4, 4), 7),\n",
       " ((4, 5), 1),\n",
       " ((4, 5), 3),\n",
       " ((4, 5), 4),\n",
       " ((4, 5), 7),\n",
       " ((4, 7), 1),\n",
       " ((4, 7), 3),\n",
       " ((4, 7), 4),\n",
       " ((4, 7), 7),\n",
       " ((4, 10), 1),\n",
       " ((4, 10), 3),\n",
       " ((4, 10), 4),\n",
       " ((4, 10), 7),\n",
       " ((5, 4), 1),\n",
       " ((5, 4), 3),\n",
       " ((5, 4), 4),\n",
       " ((5, 4), 7),\n",
       " ((5, 5), 1),\n",
       " ((5, 5), 3),\n",
       " ((5, 5), 4),\n",
       " ((5, 5), 7),\n",
       " ((5, 7), 1),\n",
       " ((5, 7), 3),\n",
       " ((5, 7), 4),\n",
       " ((5, 7), 7),\n",
       " ((5, 10), 1),\n",
       " ((5, 10), 3),\n",
       " ((5, 10), 4),\n",
       " ((5, 10), 7)}"
      ]
     },
     "execution_count": 129,
     "metadata": {},
     "output_type": "execute_result"
    }
   ],
   "source": [
    "dec_mult(dec_mult(a,b),c)"
   ]
  },
  {
   "cell_type": "markdown",
   "metadata": {},
   "source": [
    "$a \\times b \\cap c$"
   ]
  },
  {
   "cell_type": "code",
   "execution_count": 130,
   "metadata": {},
   "outputs": [
    {
     "data": {
      "text/plain": [
       "{(1, 4),\n",
       " (1, 7),\n",
       " (2, 4),\n",
       " (2, 7),\n",
       " (3, 4),\n",
       " (3, 7),\n",
       " (4, 4),\n",
       " (4, 7),\n",
       " (5, 4),\n",
       " (5, 7)}"
      ]
     },
     "execution_count": 130,
     "metadata": {},
     "output_type": "execute_result"
    }
   ],
   "source": [
    "dec_mult(a,(b&c))"
   ]
  },
  {
   "cell_type": "markdown",
   "metadata": {},
   "source": [
    "$a \\times b \\cup c$"
   ]
  },
  {
   "cell_type": "code",
   "execution_count": 131,
   "metadata": {},
   "outputs": [
    {
     "data": {
      "text/plain": [
       "{(1, 10),\n",
       " (1, 4),\n",
       " (1, 5),\n",
       " (1, 7),\n",
       " (2, 10),\n",
       " (2, 4),\n",
       " (2, 5),\n",
       " (2, 7),\n",
       " (3, 10),\n",
       " (3, 4),\n",
       " (3, 5),\n",
       " (3, 7),\n",
       " (4, 10),\n",
       " (4, 4),\n",
       " (4, 5),\n",
       " (4, 7),\n",
       " (5, 10),\n",
       " (5, 4),\n",
       " (5, 5),\n",
       " (5, 7),\n",
       " 1,\n",
       " 3,\n",
       " 4,\n",
       " 7}"
      ]
     },
     "execution_count": 131,
     "metadata": {},
     "output_type": "execute_result"
    }
   ],
   "source": [
    "dec_mult(a,b) | c"
   ]
  },
  {
   "cell_type": "markdown",
   "metadata": {},
   "source": [
    "$a \\times b \\setminus c$"
   ]
  },
  {
   "cell_type": "code",
   "execution_count": 132,
   "metadata": {},
   "outputs": [
    {
     "data": {
      "text/plain": [
       "{(1, 4),\n",
       " (1, 5),\n",
       " (1, 7),\n",
       " (1, 10),\n",
       " (2, 4),\n",
       " (2, 5),\n",
       " (2, 7),\n",
       " (2, 10),\n",
       " (3, 4),\n",
       " (3, 5),\n",
       " (3, 7),\n",
       " (3, 10),\n",
       " (4, 4),\n",
       " (4, 5),\n",
       " (4, 7),\n",
       " (4, 10),\n",
       " (5, 4),\n",
       " (5, 5),\n",
       " (5, 7),\n",
       " (5, 10)}"
      ]
     },
     "execution_count": 132,
     "metadata": {},
     "output_type": "execute_result"
    }
   ],
   "source": [
    "dec_mult(a,b) - c"
   ]
  },
  {
   "cell_type": "markdown",
   "metadata": {},
   "source": [
    "$a \\times b \\bigtriangleup c$"
   ]
  },
  {
   "cell_type": "code",
   "execution_count": 133,
   "metadata": {},
   "outputs": [
    {
     "data": {
      "text/plain": [
       "{(1, 10),\n",
       " (1, 4),\n",
       " (1, 5),\n",
       " (1, 7),\n",
       " (2, 10),\n",
       " (2, 4),\n",
       " (2, 5),\n",
       " (2, 7),\n",
       " (3, 10),\n",
       " (3, 4),\n",
       " (3, 5),\n",
       " (3, 7),\n",
       " (4, 10),\n",
       " (4, 4),\n",
       " (4, 5),\n",
       " (4, 7),\n",
       " (5, 10),\n",
       " (5, 4),\n",
       " (5, 5),\n",
       " (5, 7),\n",
       " 1,\n",
       " 3,\n",
       " 4,\n",
       " 7}"
      ]
     },
     "execution_count": 133,
     "metadata": {},
     "output_type": "execute_result"
    }
   ],
   "source": [
    "dec_mult(a,b) ^ c"
   ]
  },
  {
   "cell_type": "markdown",
   "metadata": {},
   "source": [
    "$a \\bigtriangleup b \\bigtriangleup c$ "
   ]
  },
  {
   "cell_type": "code",
   "execution_count": 136,
   "metadata": {},
   "outputs": [
    {
     "data": {
      "text/plain": [
       "{2, 4, 10}"
      ]
     },
     "execution_count": 136,
     "metadata": {},
     "output_type": "execute_result"
    }
   ],
   "source": [
    "a ^ b ^ c"
   ]
  },
  {
   "cell_type": "markdown",
   "metadata": {},
   "source": [
    "$a \\bigtriangleup b \\cap c$ "
   ]
  },
  {
   "cell_type": "code",
   "execution_count": 139,
   "metadata": {},
   "outputs": [
    {
     "data": {
      "text/plain": [
       "{1, 2, 3, 5, 7}"
      ]
     },
     "execution_count": 139,
     "metadata": {},
     "output_type": "execute_result"
    }
   ],
   "source": [
    "a ^ (b&c)"
   ]
  },
  {
   "cell_type": "markdown",
   "metadata": {},
   "source": [
    "$a \\bigtriangleup b \\cup c$ "
   ]
  },
  {
   "cell_type": "code",
   "execution_count": 141,
   "metadata": {},
   "outputs": [
    {
     "data": {
      "text/plain": [
       "{1, 2, 3, 4, 7, 10}"
      ]
     },
     "execution_count": 141,
     "metadata": {},
     "output_type": "execute_result"
    }
   ],
   "source": [
    "a ^ b | c"
   ]
  },
  {
   "cell_type": "markdown",
   "metadata": {},
   "source": [
    "$a \\bigtriangleup b \\setminus c$ "
   ]
  },
  {
   "cell_type": "code",
   "execution_count": 142,
   "metadata": {},
   "outputs": [
    {
     "data": {
      "text/plain": [
       "{1, 2, 3, 4, 10}"
      ]
     },
     "execution_count": 142,
     "metadata": {},
     "output_type": "execute_result"
    }
   ],
   "source": [
    "a ^ b - c"
   ]
  },
  {
   "cell_type": "markdown",
   "metadata": {},
   "source": [
    "$a \\bigtriangleup b \\times c$ "
   ]
  },
  {
   "cell_type": "code",
   "execution_count": 143,
   "metadata": {},
   "outputs": [
    {
     "data": {
      "text/plain": [
       "{(1, 1),\n",
       " (1, 3),\n",
       " (1, 4),\n",
       " (1, 7),\n",
       " (2, 1),\n",
       " (2, 3),\n",
       " (2, 4),\n",
       " (2, 7),\n",
       " (3, 1),\n",
       " (3, 3),\n",
       " (3, 4),\n",
       " (3, 7),\n",
       " (7, 1),\n",
       " (7, 3),\n",
       " (7, 4),\n",
       " (7, 7),\n",
       " (10, 1),\n",
       " (10, 3),\n",
       " (10, 4),\n",
       " (10, 7)}"
      ]
     },
     "execution_count": 143,
     "metadata": {},
     "output_type": "execute_result"
    }
   ],
   "source": [
    "dec_mult(a ^ b, c) "
   ]
  },
  {
   "cell_type": "markdown",
   "metadata": {},
   "source": [
    "**Тема 3. Последовательность**\n"
   ]
  },
  {
   "cell_type": "markdown",
   "metadata": {},
   "source": [
    "1. Даны 4 последовательности.\n",
    "Необходимо:\n",
    "1) исследовать их на монотонность; \n",
    "2) исследовать на ограниченность;\n",
    "3) найти пятый по счету член.\n"
   ]
  },
  {
   "cell_type": "markdown",
   "metadata": {},
   "source": [
    "1) $\\left\\{a_n\\right\\} _ 1 ^ \\infty = 2^n - n$"
   ]
  },
  {
   "cell_type": "markdown",
   "metadata": {},
   "source": [
    "Последовательность является монотонно возрастающей. Функция $2^n$ при увеличении n растет быстрее, чем n.\n",
    "Последовательность ограничена снизу, предел при n $\\to \\infty$ равен бесконечности. Т.е. последовательность ограничена снизу первым членом (единицей), но не органичена сверху."
   ]
  },
  {
   "cell_type": "code",
   "execution_count": 31,
   "metadata": {},
   "outputs": [
    {
     "data": {
      "text/plain": [
       "2"
      ]
     },
     "execution_count": 31,
     "metadata": {},
     "output_type": "execute_result"
    }
   ],
   "source": [
    "a_5 = 2^5 - 5\n",
    "a_5"
   ]
  },
  {
   "cell_type": "markdown",
   "metadata": {},
   "source": [
    "2) $\\left\\{b_n\\right\\} _ 2 ^ \\infty = \\frac {1}{1-n}$"
   ]
  },
  {
   "cell_type": "markdown",
   "metadata": {},
   "source": [
    "Последовательность является монотонно возрастающий(это видно в том числе, если построить график функции b(n) - часть гиперболы, где n>0).\n",
    "Последовательность ограничена сверху нулем (есть предел при n $\\to \\infty$ ) и снизу -1. "
   ]
  },
  {
   "cell_type": "code",
   "execution_count": 36,
   "metadata": {},
   "outputs": [
    {
     "data": {
      "text/plain": [
       "-0.2"
      ]
     },
     "execution_count": 36,
     "metadata": {},
     "output_type": "execute_result"
    }
   ],
   "source": [
    "b_5 = 1/(1-6)\n",
    "b_5"
   ]
  },
  {
   "cell_type": "markdown",
   "metadata": {},
   "source": [
    "3) $\\left\\{c_n\\right\\} _ 1 ^ \\infty = \\mathrm{(-1)}^{n}+ \\sqrt{2n}$"
   ]
  },
  {
   "cell_type": "markdown",
   "metadata": {},
   "source": [
    "Последовательность не является монотонной, т.к. в зависимости от степени n член последовательности то будет отниматься от числа минус один, то прибавляться. Последовательность органичена снизу первым членом. Свеху последовательность не ограничена."
   ]
  },
  {
   "cell_type": "code",
   "execution_count": 39,
   "metadata": {},
   "outputs": [],
   "source": [
    "import math"
   ]
  },
  {
   "cell_type": "code",
   "execution_count": 44,
   "metadata": {},
   "outputs": [
    {
     "data": {
      "text/plain": [
       "2.1622776601683795"
      ]
     },
     "execution_count": 44,
     "metadata": {},
     "output_type": "execute_result"
    }
   ],
   "source": [
    "c_5 = (-1)**5 + math.sqrt(2*5)\n",
    "c_5"
   ]
  },
  {
   "cell_type": "markdown",
   "metadata": {},
   "source": [
    "4. $\\left\\{d_n\\right\\} _ 1 ^ \\infty = \\mathrm{(-1)}^{2n} + \\frac{1}{n^2}$"
   ]
  },
  {
   "cell_type": "markdown",
   "metadata": {},
   "source": [
    "Последовательность не является монотонной, т.к. в зависимости от степени n член последовательности то будет отниматься от числа минус один, то прибавляться. "
   ]
  },
  {
   "cell_type": "code",
   "execution_count": 48,
   "metadata": {},
   "outputs": [
    {
     "data": {
      "text/plain": [
       "1.04"
      ]
     },
     "execution_count": 48,
     "metadata": {},
     "output_type": "execute_result"
    }
   ],
   "source": [
    "d_5 = (-1)**10 + 1/25\n",
    "d_5"
   ]
  },
  {
   "cell_type": "markdown",
   "metadata": {},
   "source": [
    "2. Найти 12-й член заданной неявно последовательности"
   ]
  },
  {
   "cell_type": "markdown",
   "metadata": {},
   "source": [
    "$a_1 = 128;\n",
    "a_{(n+1)} - a_n = 6$"
   ]
  },
  {
   "cell_type": "markdown",
   "metadata": {},
   "source": [
    "$a_n = a_{n+1} - 6$"
   ]
  },
  {
   "cell_type": "code",
   "execution_count": 66,
   "metadata": {},
   "outputs": [],
   "source": [
    "a = 128\n",
    "n = 12"
   ]
  },
  {
   "cell_type": "code",
   "execution_count": 67,
   "metadata": {},
   "outputs": [
    {
     "name": "stdout",
     "output_type": "stream",
     "text": [
      "134 2\n",
      "140 3\n",
      "146 4\n",
      "152 5\n",
      "158 6\n",
      "164 7\n",
      "170 8\n",
      "176 9\n",
      "182 10\n",
      "188 11\n",
      "194 12\n",
      "12-й член последовательности равен: 194\n"
     ]
    }
   ],
   "source": [
    "for i in range(2,n+1):\n",
    "    a = 6+a\n",
    "    print(a, i)\n",
    "print(\"12-й член последовательности равен:\", a)"
   ]
  },
  {
   "cell_type": "code",
   "execution_count": null,
   "metadata": {},
   "outputs": [],
   "source": []
  }
 ],
 "metadata": {
  "kernelspec": {
   "display_name": "Python 3",
   "language": "python",
   "name": "python3"
  },
  "language_info": {
   "codemirror_mode": {
    "name": "ipython",
    "version": 3
   },
   "file_extension": ".py",
   "mimetype": "text/x-python",
   "name": "python",
   "nbconvert_exporter": "python",
   "pygments_lexer": "ipython3",
   "version": "3.7.1"
  }
 },
 "nbformat": 4,
 "nbformat_minor": 2
}
