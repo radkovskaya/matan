{
 "cells": [
  {
   "cell_type": "markdown",
   "metadata": {},
   "source": [
    "**Дифференциальное исчисление**"
   ]
  },
  {
   "cell_type": "markdown",
   "metadata": {},
   "source": [
    "Найти производную выражения:"
   ]
  },
  {
   "cell_type": "markdown",
   "metadata": {},
   "source": [
    "1. $(sinx*cosx)' = cosx * cosx - sinx * sinx = cos^2x - sin^2x = cos2x $"
   ]
  },
  {
   "cell_type": "markdown",
   "metadata": {},
   "source": [
    "2. $(ln(2x+1)^3)' = \\frac{1}{(2x+1)^3}*3*(2x+1)^2 * 2 = \\frac {6}{2x+1}$"
   ]
  },
  {
   "cell_type": "markdown",
   "metadata": {},
   "source": [
    "3. $(\\sqrt[]{sin^2(ln(x^3))})'= \\frac{1}{2 * sin^2(ln(x^3))}* 2sinx(ln(x^3))* cos(ln(x^3))* \\frac {1}{x^3}*3x^2 = \\frac{3*sin2(ln(x^3)) }{2*x * sin^2(ln(x^3))} $"
   ]
  },
  {
   "cell_type": "markdown",
   "metadata": {},
   "source": [
    "4. $(\\frac{x^4}{ln(x)})' = \\frac{4*x^3 * ln(x) - \\frac{1}{x} * x^4}{ln(x)^2} = \\frac{x^3 (4*ln(x)-1)}{(ln(x))^2} $"
   ]
  },
  {
   "cell_type": "markdown",
   "metadata": {},
   "source": [
    "найти выражение производной функции и ее значение в точке"
   ]
  },
  {
   "cell_type": "markdown",
   "metadata": {},
   "source": [
    "$f(x) = cos(x^2+3x), x_0 = \\sqrt{\\pi}$"
   ]
  },
  {
   "cell_type": "markdown",
   "metadata": {},
   "source": [
    "$f'(x) = -sin(x^2+3x)*(2x+3)$"
   ]
  },
  {
   "cell_type": "markdown",
   "metadata": {},
   "source": [
    "$f'(x_0)= - sin(\\pi+3*\\sqrt{\\pi})*(2*\\sqrt{\\pi}+3) = sin(3*\\sqrt{\\pi}) * (2*\\sqrt{\\pi}+3) $"
   ]
  },
  {
   "cell_type": "markdown",
   "metadata": {},
   "source": [
    "найти значение производной функции в точке"
   ]
  },
  {
   "cell_type": "markdown",
   "metadata": {},
   "source": [
    "$f(x) = \\frac{x^3-x^2-x-1}{1+2x+3x^2-4x^3}, x_0 = 0$"
   ]
  },
  {
   "cell_type": "markdown",
   "metadata": {},
   "source": [
    "$f'(x) = \\frac {(3x^2-2x-1)*(1+2x+3x^2-4x^3) - (2+6x-12x^2)*(x^3-x^2-x-1)}{(1+2x+3x^2-4x^3)^2}$"
   ]
  },
  {
   "cell_type": "markdown",
   "metadata": {},
   "source": [
    "$f'(x_0) = -1*1 +2 = 1$"
   ]
  },
  {
   "cell_type": "markdown",
   "metadata": {},
   "source": [
    "найти угол наклона касательной к графику функции в точке"
   ]
  },
  {
   "cell_type": "markdown",
   "metadata": {},
   "source": [
    "$f(x) = \\sqrt{3x}* ln(x), x_0=1$ "
   ]
  },
  {
   "cell_type": "markdown",
   "metadata": {},
   "source": [
    "$f'(x)=\\frac {3}{2*3x} * ln(x) + \\frac {1}{x} * \\sqrt(3x)$"
   ]
  },
  {
   "cell_type": "markdown",
   "metadata": {},
   "source": [
    "$f'(x)=\\frac {3}{2*3x} * ln(x) + \\frac {1}{x} * \\sqrt{3x} = \\frac{ln(x) + 2*\\sqrt{3x}}{2x} $"
   ]
  },
  {
   "cell_type": "markdown",
   "metadata": {},
   "source": [
    "$f'(x_0) =\\frac{ln(1) + 2*\\sqrt{3}}{2} = \\sqrt{3} $"
   ]
  },
  {
   "cell_type": "markdown",
   "metadata": {},
   "source": [
    "производная в точке это тангенс угла наклона касательной к графику функции. следовательно угол равен 60 градусам."
   ]
  },
  {
   "cell_type": "markdown",
   "metadata": {},
   "source": [
    "**Ряды**"
   ]
  },
  {
   "cell_type": "markdown",
   "metadata": {},
   "source": [
    "1. исследовать ряд на сходимость, используя признак д’Аламбера"
   ]
  },
  {
   "cell_type": "markdown",
   "metadata": {},
   "source": [
    "$a_n = \\sum_{n=1}^{\\infty} \\frac{n^2}{(n!)^2}$ "
   ]
  },
  {
   "cell_type": "markdown",
   "metadata": {},
   "source": [
    "$ a = \\lim\\limits _{ n \\to  \\infty } {\\frac{(n+1)^2}{(n+1!)^2} *\\frac {(n!)^2}{n^2}} = \\lim\\limits _{ n \\to  \\infty } {\\frac{(n+1)^2}{(n!)^2 * (n+1)^2} *\\frac {(n!)^2}{n^2}} = \\frac {1}{n^2} $ < 1"
   ]
  },
  {
   "cell_type": "markdown",
   "metadata": {},
   "source": [
    "ряд сходится по признаку д'Аламбера"
   ]
  },
  {
   "cell_type": "markdown",
   "metadata": {},
   "source": [
    "2. исследовать ряд на сходимость, используя радикальный признак Коши"
   ]
  },
  {
   "cell_type": "markdown",
   "metadata": {},
   "source": [
    "$b_n = \\sum_{n=1}^{\\infty} \\frac{n}{2^n}$ "
   ]
  },
  {
   "cell_type": "markdown",
   "metadata": {},
   "source": [
    "$b = \\lim\\limits _{ n \\to  \\infty } \\sqrt[n] {\\frac{n}{2^n}} = \\lim\\limits _{ n \\to  \\infty }  {\\frac {\\sqrt[n]n}{2}} = \\frac {1}{2} $ < 1"
   ]
  },
  {
   "cell_type": "markdown",
   "metadata": {},
   "source": [
    "ряд сходится по радикальному признаку Коши"
   ]
  },
  {
   "cell_type": "markdown",
   "metadata": {},
   "source": [
    "3. исследовать ряд на сходимость, используя признак Лейбница"
   ]
  },
  {
   "cell_type": "markdown",
   "metadata": {},
   "source": [
    "$с_n = \\sum_{n=1}^{\\infty} \\frac{(-1)^n}{n+lnn}$ "
   ]
  },
  {
   "cell_type": "markdown",
   "metadata": {},
   "source": [
    "$с = \\sum_{n=1}^{\\infty} \\frac{1}{n+lnn} = 0$ и абсолютная величина членов ряда убывает с ростом n, следовательно ряд сходтся по признаку Лейбница"
   ]
  },
  {
   "cell_type": "markdown",
   "metadata": {},
   "source": [
    "4.исследовать ряд на сходимость, используя признак Раабе"
   ]
  },
  {
   "cell_type": "markdown",
   "metadata": {},
   "source": [
    "$d_n = \\sum_{n=1}^{\\infty} \\frac{3^n}{2^n}$"
   ]
  },
  {
   "cell_type": "markdown",
   "metadata": {},
   "source": [
    "$d = \\lim\\limits _{ n \\to  \\infty } n* (\\frac{3^n}{2^n}* \\frac{2^{n+1}}{3^{n+1}}-1) = \\lim\\limits _{ n \\to  \\infty } n* (\\frac{2}{3}-1) = \\lim\\limits _{ n \\to  \\infty } n* (-\\frac{1}{3}) < 1 $ "
   ]
  },
  {
   "cell_type": "markdown",
   "metadata": {},
   "source": [
    "следовательно ряд расходится по признаку Раабе"
   ]
  },
  {
   "cell_type": "markdown",
   "metadata": {},
   "source": [
    "5. разложить функцию по Тейлору в единице"
   ]
  },
  {
   "cell_type": "markdown",
   "metadata": {},
   "source": [
    "$f(x) = ln(16x^2)$"
   ]
  },
  {
   "cell_type": "markdown",
   "metadata": {},
   "source": [
    "$ln(16x^2) = ln(16) + 2(x-1) - (x-1)^2 + .. $"
   ]
  },
  {
   "cell_type": "markdown",
   "metadata": {},
   "source": [
    "6. разложить функцию в ряд Фурье по косинусам на отрезке $x \\in [-\\pi;\\pi]$"
   ]
  },
  {
   "cell_type": "markdown",
   "metadata": {},
   "source": [
    "$f(x) = x^2$"
   ]
  },
  {
   "cell_type": "markdown",
   "metadata": {},
   "source": [
    "$a_n = \\frac {1}{2\\pi} \\int\\limits_{-\\pi}^\\pi x^2cosnxdx$"
   ]
  },
  {
   "cell_type": "markdown",
   "metadata": {},
   "source": [
    "$a_0 = \\frac{2}{\\pi}\\int\\limits_{-\\pi}^\\pi x^2dx$"
   ]
  },
  {
   "cell_type": "code",
   "execution_count": null,
   "metadata": {},
   "outputs": [],
   "source": []
  }
 ],
 "metadata": {
  "kernelspec": {
   "display_name": "Python 3",
   "language": "python",
   "name": "python3"
  },
  "language_info": {
   "codemirror_mode": {
    "name": "ipython",
    "version": 3
   },
   "file_extension": ".py",
   "mimetype": "text/x-python",
   "name": "python",
   "nbconvert_exporter": "python",
   "pygments_lexer": "ipython3",
   "version": "3.7.1"
  }
 },
 "nbformat": 4,
 "nbformat_minor": 2
}
