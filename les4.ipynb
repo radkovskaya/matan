{
 "cells": [
  {
   "cell_type": "markdown",
   "metadata": {},
   "source": [
    "1. $\\int(2x^2 - 2x - 1 + sinx - cosx+lnx+e^x)dx$ ="
   ]
  },
  {
   "cell_type": "markdown",
   "metadata": {},
   "source": [
    "= $\\frac{2x^3}{3} - x^2 - cosx - sinx + x*lnx - x + e^x + C $"
   ]
  },
  {
   "cell_type": "markdown",
   "metadata": {},
   "source": [
    "2. $\\int (2x + 6xz^2 - 5x^2y-3lnz)dx$ ="
   ]
  },
  {
   "cell_type": "markdown",
   "metadata": {},
   "source": [
    "= $x^2 + 3x^2z^2 - \\frac{5x^3*2y}{3} - 3xlnz + C$"
   ]
  },
  {
   "cell_type": "markdown",
   "metadata": {},
   "source": [
    "3.$\\int\\limits_0^\\pi 3x^2*sin(2x)dx = $"
   ]
  },
  {
   "cell_type": "markdown",
   "metadata": {},
   "source": [
    " $[u = x^2;du = 2xdx; dv=sin2x; v = \\frac{1}{2} * (-cos2x)]$"
   ]
  },
  {
   "cell_type": "markdown",
   "metadata": {},
   "source": [
    "=$3(\\left.x^2 *(-cos2x)*\\frac{1}{2}\\right|_0^\\pi + \\int\\limits_0^\\pi cos2x * x dx) = -\\frac{3}{2}*\\pi^2 + 3\\int\\limits_0^\\pi cos2x =$"
   ]
  },
  {
   "cell_type": "markdown",
   "metadata": {},
   "source": [
    " $[u = x;du = dx; dv=cos2x; v = \\frac{1}{2} * (sin2x)]$"
   ]
  },
  {
   "cell_type": "markdown",
   "metadata": {},
   "source": [
    "= $-\\frac{3}{2}*\\pi^2  + 3 * (\\left.x * \\frac{1}{2}*sin2x\\right|_0^\\pi - \\frac{1}{2} \\int\\limits_0^\\pi sin2xdx) = -\\frac{3}{2}*\\pi^2 + \\frac{3}{4}\\left.cos2x\\right|_0^\\pi = -\\frac{3}{2}*\\pi^2$"
   ]
  },
  {
   "cell_type": "markdown",
   "metadata": {},
   "source": [
    "4. $\\int \\frac{1}{\\sqrt{x+1}}dx = \\int \\frac{1}{\\sqrt{x+1}}d(x+1) = 2(x+1)^{1/2}$"
   ]
  },
  {
   "cell_type": "markdown",
   "metadata": {},
   "source": [
    "5. $(4x^2 + \\frac{1}{2}y^2 - 6yx)dx + (2y^2 + xy - 6x)dy$ - ДУ в полных дифференциалах"
   ]
  },
  {
   "cell_type": "markdown",
   "metadata": {},
   "source": [
    "$\\frac {d P(x,y)}{dy} = y - 6$"
   ]
  },
  {
   "cell_type": "markdown",
   "metadata": {},
   "source": [
    "$\\frac {d Q(x,y)}{dx} = y - 6$"
   ]
  },
  {
   "cell_type": "markdown",
   "metadata": {},
   "source": [
    "$\\frac {d F(x,y)}{dx} = 4x^2 + \\frac{1}{2}y^2 - 6yx$"
   ]
  },
  {
   "cell_type": "markdown",
   "metadata": {},
   "source": [
    "$\\int\\frac {d F(x,y)}{dx} dx = \\int (4x^2 + \\frac{1}{2}y^2 - 6yx)dx$"
   ]
  },
  {
   "cell_type": "markdown",
   "metadata": {},
   "source": [
    "$F(x,y) = \\frac{4}{3}x^3 +\\frac{1}{2}y^2*x- 3yx^2 + \\varphi (y)$"
   ]
  },
  {
   "cell_type": "markdown",
   "metadata": {},
   "source": [
    "$\\frac{dF(x,y)}{dy} = y*x -3x^2 + \\varphi '(y)$"
   ]
  },
  {
   "cell_type": "markdown",
   "metadata": {},
   "source": [
    "$\\frac {d F(x,y)}{dy} = 2y^2 + xy - 6x$"
   ]
  },
  {
   "cell_type": "markdown",
   "metadata": {},
   "source": [
    "$x*y- 3x^2 +  \\varphi '(y) = 2y^2 + xy - 6x$"
   ]
  },
  {
   "cell_type": "markdown",
   "metadata": {},
   "source": [
    "$\\varphi '(y) = 2y^2  - 6x + 3x^2$"
   ]
  },
  {
   "cell_type": "markdown",
   "metadata": {},
   "source": [
    "$\\int\\varphi '(y)dy = \\int (2y^2  - 6x + 3x^2)dy$"
   ]
  },
  {
   "cell_type": "markdown",
   "metadata": {},
   "source": [
    "$\\varphi(y)dy = \\frac{2}{3}y^3 -6xy + 3x^2y + С$"
   ]
  },
  {
   "cell_type": "markdown",
   "metadata": {},
   "source": [
    "$F(x,y) = \\frac{4}{3}x^3 +\\frac{1}{2}y^2*x- 3yx^2 + \\frac{2}{3}y^3 -6xy + 3x^2y + C = \\frac{4}{3}x^3 +\\frac{1}{2}y^2*x + \\frac{2}{3}y^3 -6xy + C $"
   ]
  },
  {
   "cell_type": "markdown",
   "metadata": {},
   "source": [
    "6. $y'+y = x^2y^3$ - уравнение Бернули"
   ]
  },
  {
   "cell_type": "code",
   "execution_count": null,
   "metadata": {},
   "outputs": [],
   "source": []
  }
 ],
 "metadata": {
  "kernelspec": {
   "display_name": "Python 3",
   "language": "python",
   "name": "python3"
  },
  "language_info": {
   "codemirror_mode": {
    "name": "ipython",
    "version": 3
   },
   "file_extension": ".py",
   "mimetype": "text/x-python",
   "name": "python",
   "nbconvert_exporter": "python",
   "pygments_lexer": "ipython3",
   "version": "3.7.1"
  }
 },
 "nbformat": 4,
 "nbformat_minor": 2
}
